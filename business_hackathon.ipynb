{
  "nbformat": 4,
  "nbformat_minor": 0,
  "metadata": {
    "colab": {
      "name": "business_hackathon.ipynb",
      "provenance": [],
      "collapsed_sections": []
    },
    "kernelspec": {
      "name": "python3",
      "display_name": "Python 3"
    }
  },
  "cells": [
    {
      "cell_type": "code",
      "metadata": {
        "id": "9huyrjMw4N6R"
      },
      "source": [
        "import pandas as pd\n",
        "import seaborn as sns\n",
        "import xgboost as xgb\n",
        "import matplotlib.pyplot as plt"
      ],
      "execution_count": 94,
      "outputs": []
    },
    {
      "cell_type": "code",
      "metadata": {
        "id": "XCitv00BEohz"
      },
      "source": [
        "from sklearn.base import BaseEstimator\n",
        "from sklearn.preprocessing import StandardScaler\n",
        "from sklearn.model_selection import train_test_split\n",
        "from sklearn.model_selection import cross_val_score\n",
        "from sklearn.model_selection import KFold\n",
        "from sklearn.model_selection import StratifiedKFold\n",
        "from sklearn.model_selection import RandomizedSearchCV\n",
        "from sklearn.metrics import make_scorer\n",
        "from sklearn.metrics import accuracy_score\n",
        "from sklearn.metrics import classification_report\n",
        "from sklearn.metrics import confusion_matrix"
      ],
      "execution_count": 109,
      "outputs": []
    },
    {
      "cell_type": "code",
      "metadata": {
        "id": "uXSgoj6EaOfL"
      },
      "source": [
        "# reusing code from - https://towardsdatascience.com/running-xgboost-on-google-colab-free-gpu-a-case-study-841c90fef101"
      ],
      "execution_count": null,
      "outputs": []
    },
    {
      "cell_type": "code",
      "metadata": {
        "id": "QZdvCDiV5SmW"
      },
      "source": [
        "# Read data in\n",
        "cust_data_pd = pd.read_csv('/content/CUST_DATASET_ST.csv')\n",
        "fsa_data_pd = pd.read_csv('/content/FSA_DATASET_ST.csv')\n",
        "mg_data_pd = pd.read_csv('/content/MG_DATASET_ST.csv')"
      ],
      "execution_count": 2,
      "outputs": []
    },
    {
      "cell_type": "code",
      "metadata": {
        "id": "iAIn7Z4-5bQ6",
        "outputId": "50dfb998-6ee6-47fa-de35-51eb9fa614da",
        "colab": {
          "base_uri": "https://localhost:8080/",
          "height": 163
        }
      },
      "source": [
        "# Get ratio of default to no\n",
        "mg_data_pd.groupby('default').agg('count')"
      ],
      "execution_count": 9,
      "outputs": [
        {
          "output_type": "execute_result",
          "data": {
            "text/html": [
              "<div>\n",
              "<style scoped>\n",
              "    .dataframe tbody tr th:only-of-type {\n",
              "        vertical-align: middle;\n",
              "    }\n",
              "\n",
              "    .dataframe tbody tr th {\n",
              "        vertical-align: top;\n",
              "    }\n",
              "\n",
              "    .dataframe thead th {\n",
              "        text-align: right;\n",
              "    }\n",
              "</style>\n",
              "<table border=\"1\" class=\"dataframe\">\n",
              "  <thead>\n",
              "    <tr style=\"text-align: right;\">\n",
              "      <th></th>\n",
              "      <th>mg_acc</th>\n",
              "      <th>FSA</th>\n",
              "      <th>origin_date</th>\n",
              "      <th>property_type</th>\n",
              "      <th>purchase_price</th>\n",
              "      <th>amort_period</th>\n",
              "      <th>loan_size</th>\n",
              "      <th>interest_rate</th>\n",
              "      <th>TDS</th>\n",
              "      <th>Sample</th>\n",
              "    </tr>\n",
              "    <tr>\n",
              "      <th>default</th>\n",
              "      <th></th>\n",
              "      <th></th>\n",
              "      <th></th>\n",
              "      <th></th>\n",
              "      <th></th>\n",
              "      <th></th>\n",
              "      <th></th>\n",
              "      <th></th>\n",
              "      <th></th>\n",
              "      <th></th>\n",
              "    </tr>\n",
              "  </thead>\n",
              "  <tbody>\n",
              "    <tr>\n",
              "      <th>0.0</th>\n",
              "      <td>3326</td>\n",
              "      <td>3326</td>\n",
              "      <td>3326</td>\n",
              "      <td>3326</td>\n",
              "      <td>3326</td>\n",
              "      <td>3326</td>\n",
              "      <td>3326</td>\n",
              "      <td>3326</td>\n",
              "      <td>3326</td>\n",
              "      <td>3326</td>\n",
              "    </tr>\n",
              "    <tr>\n",
              "      <th>1.0</th>\n",
              "      <td>983</td>\n",
              "      <td>983</td>\n",
              "      <td>983</td>\n",
              "      <td>983</td>\n",
              "      <td>983</td>\n",
              "      <td>983</td>\n",
              "      <td>983</td>\n",
              "      <td>983</td>\n",
              "      <td>983</td>\n",
              "      <td>983</td>\n",
              "    </tr>\n",
              "  </tbody>\n",
              "</table>\n",
              "</div>"
            ],
            "text/plain": [
              "         mg_acc   FSA  origin_date  ...  interest_rate   TDS  Sample\n",
              "default                             ...                             \n",
              "0.0        3326  3326         3326  ...           3326  3326    3326\n",
              "1.0         983   983          983  ...            983   983     983\n",
              "\n",
              "[2 rows x 10 columns]"
            ]
          },
          "metadata": {
            "tags": []
          },
          "execution_count": 9
        }
      ]
    },
    {
      "cell_type": "code",
      "metadata": {
        "id": "Lgm-JsPS2WVL",
        "outputId": "36e373a7-972f-4eb5-dce1-04f9c5ba9fb9",
        "colab": {
          "base_uri": "https://localhost:8080/"
        }
      },
      "source": [
        "# Look at distribution of FSA codes across mortgage holders\n",
        "mg_data_pd.groupby('FSA').FSA.agg('count')"
      ],
      "execution_count": 22,
      "outputs": [
        {
          "output_type": "execute_result",
          "data": {
            "text/plain": [
              "FSA\n",
              "V0A    26\n",
              "V0B    46\n",
              "V0C    37\n",
              "V0E    79\n",
              "V0G    50\n",
              "       ..\n",
              "V9V    17\n",
              "V9W    47\n",
              "V9X    19\n",
              "V9Y    47\n",
              "V9Z    48\n",
              "Name: FSA, Length: 183, dtype: int64"
            ]
          },
          "metadata": {
            "tags": []
          },
          "execution_count": 22
        }
      ]
    },
    {
      "cell_type": "code",
      "metadata": {
        "id": "uvXRJ0IVzVk5"
      },
      "source": [
        "# Lets join mortgage data with customer data\n",
        "mg_w_cust_dat_pd = mg_data_pd.merge(cust_data_pd, on='mg_acc', how='left')"
      ],
      "execution_count": 25,
      "outputs": []
    },
    {
      "cell_type": "code",
      "metadata": {
        "id": "8sUUj9Ud1hGu"
      },
      "source": [
        "# Now lets join FSA to the merged_data\n",
        "all_dat_pd = mg_w_cust_dat_pd.merge(fsa_data_pd, on='FSA', how='left')"
      ],
      "execution_count": 33,
      "outputs": []
    },
    {
      "cell_type": "code",
      "metadata": {
        "id": "qC2JB_KK1nTI"
      },
      "source": [
        "# Add a predictor that computes Loan to value ratio\n",
        "all_dat_pd['LTR'] = all_dat_pd['purchase_price'] / all_dat_pd['loan_size']"
      ],
      "execution_count": 40,
      "outputs": []
    },
    {
      "cell_type": "code",
      "metadata": {
        "id": "NSEe9Buq9_d9"
      },
      "source": [
        "# Convert date column into datetime obj\n",
        "all_dat_pd['origin_date'] = pd.to_datetime(all_dat_pd['origin_date'], format=\"%Y-%m-%d\")"
      ],
      "execution_count": 44,
      "outputs": []
    },
    {
      "cell_type": "code",
      "metadata": {
        "id": "dGgLcwaj_sZx"
      },
      "source": [
        "# Add dummy variables to dataframe\n",
        "dummy_cols = ['property_type', 'amort_period']\n",
        "all_dat_w_dummies_pd = pd.get_dummies(all_dat_pd, columns=dummy_cols)"
      ],
      "execution_count": 47,
      "outputs": []
    },
    {
      "cell_type": "code",
      "metadata": {
        "id": "mRMPzPcSA6PF"
      },
      "source": [
        "# Remove holdout samples\n",
        "train_dat_pd = all_dat_w_dummies_pd[all_dat_w_dummies_pd.Sample != 'Holdout']"
      ],
      "execution_count": 53,
      "outputs": []
    },
    {
      "cell_type": "code",
      "metadata": {
        "id": "zJkiAEhcBuoV",
        "outputId": "53b4512c-9b67-4bc3-8a32-aadf1d25617c",
        "colab": {
          "base_uri": "https://localhost:8080/"
        }
      },
      "source": [
        "# Check\n",
        "train_dat_pd.groupby('Sample').Sample.agg('count')"
      ],
      "execution_count": 54,
      "outputs": [
        {
          "output_type": "execute_result",
          "data": {
            "text/plain": [
              "Sample\n",
              "Estimation    3748\n",
              "Validation    1891\n",
              "Name: Sample, dtype: int64"
            ]
          },
          "metadata": {
            "tags": []
          },
          "execution_count": 54
        }
      ]
    },
    {
      "cell_type": "code",
      "metadata": {
        "id": "yCBZ37mK7P_-"
      },
      "source": [
        "# Drop join cols to create for feature matrix\n",
        "drop_cols = ['mg_acc', 'FSA', 'default', 'Sample', 'cust_age', 'cust_gender', 'origin_date']\n",
        "features_pd = train_dat_pd.drop(columns=drop_cols)\n",
        "\n",
        "# Create a target column that is categorical/binary\n",
        "target = train_dat_pd['default']\n",
        "cat_col = pd.Categorical(target)\n",
        "target = pd.Series(cat_col.codes)"
      ],
      "execution_count": 83,
      "outputs": []
    },
    {
      "cell_type": "code",
      "metadata": {
        "id": "_UPOzgzN9Z-r"
      },
      "source": [
        "# split the clean_X into train and test sets\n",
        "seed = 1958\n",
        "X_train, X_test, y_train, y_test = train_test_split(features_pd, target, test_size=0.20, \n",
        "                                                    random_state=seed, shuffle=True, stratify=target)"
      ],
      "execution_count": 84,
      "outputs": []
    },
    {
      "cell_type": "code",
      "metadata": {
        "id": "E8uRcdAtDAXJ",
        "outputId": "4d9bde6e-68fc-4ee7-be13-eadc2930e5f7",
        "colab": {
          "base_uri": "https://localhost:8080/"
        }
      },
      "source": [
        "import time\n",
        "from xgboost import XGBClassifier# create a default XGBoost classifier\n",
        "model = XGBClassifier(n_estimators=500, random_state=seed)# define the eval set and metric\n",
        "\n",
        "eval_set = [(X_train, y_train), (X_test, y_test)]\n",
        "eval_metric = [\"auc\",\"error\"]# fit the model\n",
        "%time model.fit(X_train, y_train, eval_metric=eval_metric, eval_set=eval_set, verbose=False)"
      ],
      "execution_count": 85,
      "outputs": [
        {
          "output_type": "stream",
          "text": [
            "CPU times: user 6.41 s, sys: 29.2 ms, total: 6.44 s\n",
            "Wall time: 6.54 s\n"
          ],
          "name": "stdout"
        },
        {
          "output_type": "execute_result",
          "data": {
            "text/plain": [
              "XGBClassifier(base_score=0.5, booster='gbtree', colsample_bylevel=1,\n",
              "              colsample_bynode=1, colsample_bytree=1, gamma=0,\n",
              "              learning_rate=0.1, max_delta_step=0, max_depth=3,\n",
              "              min_child_weight=1, missing=None, n_estimators=500, n_jobs=1,\n",
              "              nthread=None, objective='binary:logistic', random_state=1958,\n",
              "              reg_alpha=0, reg_lambda=1, scale_pos_weight=1, seed=None,\n",
              "              silent=None, subsample=1, verbosity=1)"
            ]
          },
          "metadata": {
            "tags": []
          },
          "execution_count": 85
        }
      ]
    },
    {
      "cell_type": "code",
      "metadata": {
        "id": "MuMAimckG00V",
        "outputId": "af74e9a7-bf69-4ddf-cdd2-baf3ffa38b4e",
        "colab": {
          "base_uri": "https://localhost:8080/"
        }
      },
      "source": [
        "# final model assessment\n",
        "pred_test = model.predict(X_test)\n",
        "pred_train = model.predict(X_train)\n",
        "\n",
        "print('Train Accuracy: ', accuracy_score(y_train, pred_train))\n",
        "print('Test Accuraccy: ', accuracy_score(y_test, pred_test))\n",
        "\n",
        "print('Classification Report:')\n",
        "print(classification_report(y_test,pred_test))"
      ],
      "execution_count": 91,
      "outputs": [
        {
          "output_type": "stream",
          "text": [
            "Train Accuracy:  0.8907115938816227\n",
            "Test Accuraccy:  0.7810283687943262\n",
            "Classification Report:\n",
            "              precision    recall  f1-score   support\n",
            "\n",
            "           0       0.80      0.95      0.87       864\n",
            "           1       0.58      0.23      0.33       264\n",
            "\n",
            "    accuracy                           0.78      1128\n",
            "   macro avg       0.69      0.59      0.60      1128\n",
            "weighted avg       0.75      0.78      0.74      1128\n",
            "\n"
          ],
          "name": "stdout"
        }
      ]
    },
    {
      "cell_type": "code",
      "metadata": {
        "id": "LRHjDcjrHKvd",
        "outputId": "d997c026-e35b-4ba8-ddfa-4527e2490d75",
        "colab": {
          "base_uri": "https://localhost:8080/",
          "height": 367
        }
      },
      "source": [
        "# retrieve performance metrics\n",
        "results = model.evals_result()\n",
        "epochs = len(results['validation_0']['error'])\n",
        "x_axis = range(0, epochs)\n",
        "\n",
        "fig, ax = plt.subplots(1, 2, figsize=(15,5))# plot auc\n",
        "ax[0].plot(x_axis, results['validation_0']['auc'], label='Train')\n",
        "ax[0].plot(x_axis, results['validation_1']['auc'], label='Test')\n",
        "ax[0].legend()\n",
        "ax[0].set_title('XGBoost AUC-ROC')\n",
        "ax[0].set_ylabel('AUC-ROC')\n",
        "ax[0].set_xlabel('N estimators')# plot classification error\n",
        "ax[1].plot(x_axis, results['validation_0']['error'], label='Train')\n",
        "ax[1].plot(x_axis, results['validation_1']['error'], label='Test')\n",
        "ax[1].legend()\n",
        "ax[1].set_title('XGBoost Classification Error')\n",
        "ax[1].set_ylabel('Classification Error')\n",
        "ax[1].set_xlabel('N estimators')\n",
        "plt.show()\n",
        "plt.tight_layout()"
      ],
      "execution_count": 95,
      "outputs": [
        {
          "output_type": "display_data",
          "data": {
            "image/png": "[encoded data removed]",
            "text/plain": [
              "<Figure size 1080x360 with 2 Axes>"
            ]
          },
          "metadata": {
            "tags": [],
            "needs_background": "light"
          }
        },
        {
          "output_type": "display_data",
          "data": {
            "text/plain": [
              "<Figure size 432x288 with 0 Axes>"
            ]
          },
          "metadata": {
            "tags": []
          }
        }
      ]
    },
    {
      "cell_type": "code",
      "metadata": {
        "id": "QdnOMyfFJAqh",
        "outputId": "d22210d0-77e8-4f4f-c836-63660a6cd985",
        "colab": {
          "base_uri": "https://localhost:8080/"
        }
      },
      "source": [
        "# create a default XGBoost classifier\n",
        "model = XGBClassifier(\n",
        "    random_state=seed, \n",
        "    eval_metric=[\"error\", \"auc\"]\n",
        ")\n",
        "\n",
        "# Create the grid search parameter grid and scoring funcitons\n",
        "param_grid = {\n",
        "    \"learning_rate\": [0.1, 0.01],\n",
        "    \"subsample\": [0.6, 0.8, 1.0],\n",
        "    \"max_depth\": [2, 3, 4],\n",
        "    \"n_estimators\": [100, 200, 500, 600],\n",
        "    \"reg_lambda\": [1, 1.5, 2]\n",
        "}\n",
        "\n",
        "scoring = {\n",
        "    'AUC': 'roc_auc', \n",
        "    'Accuracy': make_scorer(accuracy_score)\n",
        "}\n",
        "\n",
        "# create the Kfold object\n",
        "num_folds = 5\n",
        "kfold = StratifiedKFold(n_splits=num_folds, random_state=seed)\n",
        "\n",
        "# create the grid search object\n",
        "n_iter=50\n",
        "grid = RandomizedSearchCV(\n",
        "    estimator=model, \n",
        "    param_distributions=param_grid,\n",
        "    cv=kfold,\n",
        "    scoring=scoring,\n",
        "    n_jobs=-1,\n",
        "    n_iter=n_iter,\n",
        "    refit=\"AUC\",\n",
        ")\n",
        "\n",
        "# fit grid search\n",
        "%time best_model = grid.fit(X_train,y_train)"
      ],
      "execution_count": 106,
      "outputs": [
        {
          "output_type": "stream",
          "text": [
            "/usr/local/lib/python3.6/dist-packages/sklearn/model_selection/_split.py:296: FutureWarning: Setting a random_state has no effect since shuffle is False. This will raise an error in 0.24. You should leave random_state to its default (None), or set shuffle=True.\n",
            "  FutureWarning\n"
          ],
          "name": "stderr"
        },
        {
          "output_type": "stream",
          "text": [
            "CPU times: user 8.3 s, sys: 120 ms, total: 8.42 s\n",
            "Wall time: 9min 37s\n"
          ],
          "name": "stdout"
        }
      ]
    },
    {
      "cell_type": "code",
      "metadata": {
        "id": "ngpGA9uLL6S4",
        "outputId": "8869b83e-344a-4c06-c876-f7ff02edfea4",
        "colab": {
          "base_uri": "https://localhost:8080/"
        }
      },
      "source": [
        "print(f'Best score: {best_model.best_score_}')\n",
        "print(f'Best model: {best_model.best_params_}')"
      ],
      "execution_count": 107,
      "outputs": [
        {
          "output_type": "stream",
          "text": [
            "Best score: 0.7285148733606859\n",
            "Best model: {'subsample': 1.0, 'reg_lambda': 1.5, 'n_estimators': 600, 'max_depth': 4, 'learning_rate': 0.1}\n"
          ],
          "name": "stdout"
        }
      ]
    },
    {
      "cell_type": "code",
      "metadata": {
        "id": "yCYKtj9BL6vW",
        "outputId": "cc8b9ec9-5c3e-4f7e-a785-76de3bc83d9d",
        "colab": {
          "base_uri": "https://localhost:8080/"
        }
      },
      "source": [
        "# Asses best model's performance on hold out test set\n",
        "pred_test = best_model.predict(X_test)\n",
        "pred_train = best_model.predict(X_train)\n",
        "\n",
        "print('Train Accuracy: ', accuracy_score(y_train, pred_train))\n",
        "print('Test Accuraccy: ', accuracy_score(y_test, pred_test))\n",
        "\n",
        "print('\\nConfusion Matrix:')\n",
        "print(confusion_matrix(y_test, pred_test))\n",
        "\n",
        "print('\\nClassification Report:')\n",
        "print(classification_report(y_test, pred_test))"
      ],
      "execution_count": 110,
      "outputs": [
        {
          "output_type": "stream",
          "text": [
            "Train Accuracy:  0.9691864331633784\n",
            "Test Accuraccy:  0.7898936170212766\n",
            "\n",
            "Confusion Matrix:\n",
            "[[812  52]\n",
            " [185  79]]\n",
            "\n",
            "Classification Report:\n",
            "              precision    recall  f1-score   support\n",
            "\n",
            "           0       0.81      0.94      0.87       864\n",
            "           1       0.60      0.30      0.40       264\n",
            "\n",
            "    accuracy                           0.79      1128\n",
            "   macro avg       0.71      0.62      0.64      1128\n",
            "weighted avg       0.76      0.79      0.76      1128\n",
            "\n"
          ],
          "name": "stdout"
        }
      ]
    },
    {
      "cell_type": "code",
      "metadata": {
        "id": "AMDJcIVJJ2XF"
      },
      "source": [
        "# Get best model's predictions for holdout set\n",
        "holdout_pd = all_dat_w_dummies_pd[all_dat_w_dummies_pd.Sample == 'Holdout']\n",
        "\n",
        "# Drop join cols to create for feature matrix\n",
        "drop_cols = ['mg_acc', 'FSA', 'default', 'Sample', 'cust_age', 'cust_gender', 'origin_date']\n",
        "H_test = holdout_pd.drop(columns=drop_cols)\n",
        "\n",
        "# Remove dropped cols from holdout features\n",
        "pred_holdout_label = best_model.predict(H_test)\n",
        "pred_holdout_probs = best_model.predict_proba(H_test)"
      ],
      "execution_count": 155,
      "outputs": []
    },
    {
      "cell_type": "code",
      "metadata": {
        "id": "F2AJrqA7WXU4"
      },
      "source": [
        "default_probs = [x[1] for x in pred_holdout_probs.tolist()]"
      ],
      "execution_count": 160,
      "outputs": []
    },
    {
      "cell_type": "code",
      "metadata": {
        "id": "PaLjw1orU3nV",
        "outputId": "5cda1921-c011-4929-f90c-ab2a2b21a240",
        "colab": {
          "base_uri": "https://localhost:8080/"
        }
      },
      "source": [
        "# Add model predictions to dataset with account ids\n",
        "holdout_pd.loc[:, 'pred_labels'] = pred_holdout_label.tolist()\n",
        "holdout_pd.loc[:, 'pred_probs'] = default_probs"
      ],
      "execution_count": 162,
      "outputs": [
        {
          "output_type": "stream",
          "text": [
            "/usr/local/lib/python3.6/dist-packages/pandas/core/indexing.py:1743: SettingWithCopyWarning: \n",
            "A value is trying to be set on a copy of a slice from a DataFrame.\n",
            "Try using .loc[row_indexer,col_indexer] = value instead\n",
            "\n",
            "See the caveats in the documentation: https://pandas.pydata.org/pandas-docs/stable/user_guide/indexing.html#returning-a-view-versus-a-copy\n",
            "  isetter(ilocs[0], value)\n"
          ],
          "name": "stderr"
        }
      ]
    },
    {
      "cell_type": "markdown",
      "metadata": {
        "id": "PPYR-uqwSiRr"
      },
      "source": [
        ""
      ]
    },
    {
      "cell_type": "code",
      "metadata": {
        "id": "dN8n5PyrRIXa"
      },
      "source": [
        "# Use the highest prediction for an mg account to determine if an account holder will default\n",
        "H_pred = holdout_pd.groupby('mg_acc').agg('max')"
      ],
      "execution_count": 164,
      "outputs": []
    },
    {
      "cell_type": "code",
      "metadata": {
        "id": "swAuJlpQUvgm"
      },
      "source": [
        "# Summarize predictions\n",
        "H_pred.loc[:, 'mg_acc'] = H_pred.index\n",
        "H_pred_small = H_pred"
      ],
      "execution_count": 165,
      "outputs": []
    },
    {
      "cell_type": "code",
      "metadata": {
        "id": "L_liO8e-Q43e"
      },
      "source": [
        "# Append predictions with mortgage ids\n",
        "keep_cols = ['mg_acc', 'pred_probs', 'pred_labels']\n",
        "final_preds = H_pred_small[keep_cols].reset_index(drop=True)"
      ],
      "execution_count": 174,
      "outputs": []
    },
    {
      "cell_type": "code",
      "metadata": {
        "id": "agmDcbYaYVQ6"
      },
      "source": [
        "final_preds.to_csv('/content/final_predictions.csv')"
      ],
      "execution_count": 176,
      "outputs": []
    },
    {
      "cell_type": "code",
      "metadata": {
        "id": "fNioILbgUfbz",
        "outputId": "5d80551f-931d-4728-a833-787e0b577008",
        "colab": {
          "base_uri": "https://localhost:8080/",
          "height": 424
        }
      },
      "source": [
        "H_pred_small[keep_cols].reset_index(drop=True)"
      ],
      "execution_count": 173,
      "outputs": [
        {
          "output_type": "execute_result",
          "data": {
            "text/html": [
              "<div>\n",
              "<style scoped>\n",
              "    .dataframe tbody tr th:only-of-type {\n",
              "        vertical-align: middle;\n",
              "    }\n",
              "\n",
              "    .dataframe tbody tr th {\n",
              "        vertical-align: top;\n",
              "    }\n",
              "\n",
              "    .dataframe thead th {\n",
              "        text-align: right;\n",
              "    }\n",
              "</style>\n",
              "<table border=\"1\" class=\"dataframe\">\n",
              "  <thead>\n",
              "    <tr style=\"text-align: right;\">\n",
              "      <th></th>\n",
              "      <th>mg_acc</th>\n",
              "      <th>pred_probs</th>\n",
              "      <th>pred_labels</th>\n",
              "    </tr>\n",
              "  </thead>\n",
              "  <tbody>\n",
              "    <tr>\n",
              "      <th>0</th>\n",
              "      <td>213</td>\n",
              "      <td>0.205600</td>\n",
              "      <td>0</td>\n",
              "    </tr>\n",
              "    <tr>\n",
              "      <th>1</th>\n",
              "      <td>488</td>\n",
              "      <td>0.092516</td>\n",
              "      <td>0</td>\n",
              "    </tr>\n",
              "    <tr>\n",
              "      <th>2</th>\n",
              "      <td>629</td>\n",
              "      <td>0.477980</td>\n",
              "      <td>0</td>\n",
              "    </tr>\n",
              "    <tr>\n",
              "      <th>3</th>\n",
              "      <td>947</td>\n",
              "      <td>0.034681</td>\n",
              "      <td>0</td>\n",
              "    </tr>\n",
              "    <tr>\n",
              "      <th>4</th>\n",
              "      <td>1393</td>\n",
              "      <td>0.002521</td>\n",
              "      <td>0</td>\n",
              "    </tr>\n",
              "    <tr>\n",
              "      <th>...</th>\n",
              "      <td>...</td>\n",
              "      <td>...</td>\n",
              "      <td>...</td>\n",
              "    </tr>\n",
              "    <tr>\n",
              "      <th>1467</th>\n",
              "      <td>997718</td>\n",
              "      <td>0.513627</td>\n",
              "      <td>1</td>\n",
              "    </tr>\n",
              "    <tr>\n",
              "      <th>1468</th>\n",
              "      <td>997822</td>\n",
              "      <td>0.382809</td>\n",
              "      <td>0</td>\n",
              "    </tr>\n",
              "    <tr>\n",
              "      <th>1469</th>\n",
              "      <td>998560</td>\n",
              "      <td>0.318740</td>\n",
              "      <td>0</td>\n",
              "    </tr>\n",
              "    <tr>\n",
              "      <th>1470</th>\n",
              "      <td>998830</td>\n",
              "      <td>0.208692</td>\n",
              "      <td>0</td>\n",
              "    </tr>\n",
              "    <tr>\n",
              "      <th>1471</th>\n",
              "      <td>999002</td>\n",
              "      <td>0.739422</td>\n",
              "      <td>1</td>\n",
              "    </tr>\n",
              "  </tbody>\n",
              "</table>\n",
              "<p>1472 rows × 3 columns</p>\n",
              "</div>"
            ],
            "text/plain": [
              "      mg_acc  pred_probs  pred_labels\n",
              "0        213    0.205600            0\n",
              "1        488    0.092516            0\n",
              "2        629    0.477980            0\n",
              "3        947    0.034681            0\n",
              "4       1393    0.002521            0\n",
              "...      ...         ...          ...\n",
              "1467  997718    0.513627            1\n",
              "1468  997822    0.382809            0\n",
              "1469  998560    0.318740            0\n",
              "1470  998830    0.208692            0\n",
              "1471  999002    0.739422            1\n",
              "\n",
              "[1472 rows x 3 columns]"
            ]
          },
          "metadata": {
            "tags": []
          },
          "execution_count": 173
        }
      ]
    },
    {
      "cell_type": "code",
      "metadata": {
        "id": "z7WXYLs2NynO",
        "outputId": "a8e69228-08cd-4c63-fefc-fd4185b1fea8",
        "colab": {
          "base_uri": "https://localhost:8080/",
          "height": 319
        }
      },
      "source": [
        "# store the winning model in a new variable\n",
        "xgc = best_model.best_estimator_\n",
        "\n",
        "# saving the feature names to the model\n",
        "xgc.get_booster().feature_names = features_pd.columns.to_list()\n",
        "\n",
        "# Create the feature importances plot\n",
        "fig, ax = plt.subplots(figsize=(15,5))\n",
        "\n",
        "# plot importances with feature weight\n",
        "xgb.plot_importance(\n",
        "    booster=xgc, \n",
        "    importance_type='weight',\n",
        "    title='Feature Weight',\n",
        "    show_values=False,\n",
        "    height=0.5,\n",
        "    ax=ax,\n",
        ")\n",
        "\n",
        "# plot importances with split mean gain\n",
        "# xgb.plot_importance(\n",
        "#     booster=xgc,\n",
        "#     importance_type='gain',\n",
        "#     title='Split Mean Gain',\n",
        "#     show_values=False,\n",
        "#     height=0.5,\n",
        "#     ax=ax[1]\n",
        "# )\n",
        "\n",
        "# plot importances with sample coverage\n",
        "# xgb.plot_importance(\n",
        "#     xgc,\n",
        "#     importance_type='cover',\n",
        "#     title='Sample Coverage',\n",
        "#     show_values=False,\n",
        "#     height=0.5,\n",
        "#     ax=ax[2]\n",
        "# )\n",
        "plt.tight_layout()\n",
        "plt.savefig('/content/feature_importance.png')"
      ],
      "execution_count": 184,
      "outputs": [
        {
          "output_type": "display_data",
          "data": {
            "image/png": "[encoded data removed]",
            "text/plain": [
              "<Figure size 1080x360 with 1 Axes>"
            ]
          },
          "metadata": {
            "tags": [],
            "needs_background": "light"
          }
        }
      ]
    },
    {
      "cell_type": "code",
      "metadata": {
        "id": "CUykxGJ3PamC"
      },
      "source": [
        ""
      ],
      "execution_count": null,
      "outputs": []
    }
  ]
}